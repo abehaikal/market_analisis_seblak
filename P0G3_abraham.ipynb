{
 "cells": [
  {
   "cell_type": "markdown",
   "metadata": {},
   "source": [
    "===================================================================================================================================================================================================\n",
    "\n",
    "Graded Challenge 3\n",
    "\n",
    "Nama  : Abraham Rashid Haikal\n",
    "\n",
    "Batch : HCK-018\n",
    "\n",
    "Notebook ini dibuat untuk mendokumentasi proses web scrapping data penjualan seblak di tokopedia dan analisis statistik untuk menjawab problem statement tentang menambah penghasilan bulanan dengan menjual seblak di Tokopedia.\n",
    "\n",
    "==================================================================================================================================================================================================="
   ]
  },
  {
   "cell_type": "markdown",
   "metadata": {},
   "source": [
    "# A. Web Scrapping"
   ]
  },
  {
   "cell_type": "markdown",
   "metadata": {},
   "source": [
    "## 1. Pengambilan data dari halaman Tokopedia"
   ]
  },
  {
   "cell_type": "code",
   "execution_count": 2,
   "metadata": {},
   "outputs": [],
   "source": [
    "# Persiapan untuk scrapping data\n",
    "from bs4 import BeautifulSoup\n",
    "from selenium import webdriver\n",
    "import pandas as pd\n",
    "import time\n"
   ]
  },
  {
   "cell_type": "code",
   "execution_count": 54,
   "metadata": {},
   "outputs": [],
   "source": [
    "# Menyiapkan selenium webdriver untuk mengakses halaman pencarian 'seblak' di Tokopedia\n",
    "driver = webdriver.Chrome()\n",
    "url = f\"https://www.tokopedia.com/search?navsource=&page={x}&q=seblak&search_id=20240628081749F0B5CE305DD6F10372N7&srp_component_id=02.01.00.00&srp_page_id=&srp_page_title=&st=\"\n",
    "driver.get(url)\n",
    "html = driver.page_source"
   ]
  },
  {
   "cell_type": "markdown",
   "metadata": {},
   "source": [
    "Mengambil elemen nama produk dari\n",
    "\n",
    "`<span class=\"OWkG6oHwAppMn1hIBsC3pQ==\">Kylafood Seblak Rempah Authentik</span>`"
   ]
  },
  {
   "cell_type": "code",
   "execution_count": 56,
   "metadata": {},
   "outputs": [
    {
     "data": {
      "text/plain": [
       "'Kylafood Seblak Rempah Authentik'"
      ]
     },
     "execution_count": 56,
     "metadata": {},
     "output_type": "execute_result"
    }
   ],
   "source": [
    "# Mencari elemen nama produk\n",
    "product_name = soup.find(\"span\", {\"class\": \"OWkG6oHwAppMn1hIBsC3pQ==\"})\n",
    "\n",
    "product_name.get_text()"
   ]
  },
  {
   "cell_type": "markdown",
   "metadata": {},
   "source": [
    "Mengambil elemen harga produk dari\n",
    "\n",
    "`<div class=\"_8cR53N0JqdRc+mQCckhS0g== Phc0SDQ0Yjt43vf3XuwYOg==\">Rp12.225</div>`"
   ]
  },
  {
   "cell_type": "code",
   "execution_count": 57,
   "metadata": {},
   "outputs": [
    {
     "data": {
      "text/plain": [
       "'Rp12.225'"
      ]
     },
     "execution_count": 57,
     "metadata": {},
     "output_type": "execute_result"
    }
   ],
   "source": [
    "price = soup.find(\"div\", {\"class\":\"_8cR53N0JqdRc+mQCckhS0g==\"})\n",
    "\n",
    "price.get_text().strip()"
   ]
  },
  {
   "cell_type": "markdown",
   "metadata": {},
   "source": [
    "Mengambil elemen nama penjual dari\n",
    "\n",
    "`<span class=\"X6c-fdwuofj6zGvLKVUaNQ== -9tiTbQgmU1vCjykywQqvA== flip\">Brother Meat Shop</span>`"
   ]
  },
  {
   "cell_type": "code",
   "execution_count": 40,
   "metadata": {},
   "outputs": [
    {
     "data": {
      "text/plain": [
       "'Brother Meat Shop'"
      ]
     },
     "execution_count": 40,
     "metadata": {},
     "output_type": "execute_result"
    }
   ],
   "source": [
    "penjual = soup.find(\"span\", {\"class\":\"X6c-fdwuofj6zGvLKVUaNQ== -9tiTbQgmU1vCjykywQqvA== flip\"})\n",
    "\n",
    "penjual.get_text().strip()"
   ]
  },
  {
   "cell_type": "markdown",
   "metadata": {},
   "source": [
    "Mengambil elemen lokasi toko dari\n",
    "\n",
    "`<span class=\"X6c-fdwuofj6zGvLKVUaNQ== -9tiTbQgmU1vCjykywQqvA== flip\">Depok</span>`"
   ]
  },
  {
   "cell_type": "code",
   "execution_count": 41,
   "metadata": {},
   "outputs": [
    {
     "data": {
      "text/plain": [
       "'Depok'"
      ]
     },
     "execution_count": 41,
     "metadata": {},
     "output_type": "execute_result"
    }
   ],
   "source": [
    "lokasi = soup.find(\"span\", {\"class\":\"-9tiTbQgmU1vCjykywQqvA== flip\"})\n",
    "\n",
    "lokasi.get_text().strip()"
   ]
  },
  {
   "cell_type": "markdown",
   "metadata": {},
   "source": [
    "Mengambil elemen jumlah produk terjual dari\n",
    "\n",
    "`<span class=\"eLOomHl6J3IWAcdRU8M08A==\">500+ terjual</span>`"
   ]
  },
  {
   "cell_type": "code",
   "execution_count": 45,
   "metadata": {},
   "outputs": [
    {
     "data": {
      "text/plain": [
       "'500+ terjual'"
      ]
     },
     "execution_count": 45,
     "metadata": {},
     "output_type": "execute_result"
    }
   ],
   "source": [
    "jumlahTerjual = soup.find(\"span\", {\"class\":\"eLOomHl6J3IWAcdRU8M08A==\"})\n",
    "jumlahTerjual.get_text().strip()"
   ]
  },
  {
   "cell_type": "markdown",
   "metadata": {},
   "source": [
    "Mengambil elemen rating produk dari\n",
    "\n",
    "`<span class=\"nBBbPk9MrELbIUbobepKbQ==\">5.0</span>`"
   ]
  },
  {
   "cell_type": "code",
   "execution_count": 48,
   "metadata": {},
   "outputs": [
    {
     "data": {
      "text/plain": [
       "'4.9'"
      ]
     },
     "execution_count": 48,
     "metadata": {},
     "output_type": "execute_result"
    }
   ],
   "source": [
    "rating = soup.find(\"span\", {\"class\":\"nBBbPk9MrELbIUbobepKbQ==\"})\n",
    "rating.get_text().strip()"
   ]
  },
  {
   "cell_type": "markdown",
   "metadata": {},
   "source": [
    "Memasukkan elemen-elemen yang diperoleh untuk web scrapping"
   ]
  },
  {
   "cell_type": "code",
   "execution_count": 116,
   "metadata": {},
   "outputs": [],
   "source": [
    "# url\n",
    "url = 'https://www.tokopedia.com/search?navsource=&page=1&q=seblak&search_id=20240628081749F0B5CE305DD6F10372N7&srp_component_id=02.01.00.00&srp_page_id=&srp_page_title=&st='\n",
    "\n",
    "# access website\n",
    "driver.get(url)\n",
    "\n",
    "# melakukan scroll pada halaman untuk memuat lebih banyak elemen\n",
    "driver.execute_script(\"window.scrollTo(0, 1080)\")\n",
    "\n",
    "\n",
    "# mengambil elemen html\n",
    "html = driver.page_source\n",
    "\n",
    "# # parsing\n",
    "page = BeautifulSoup(html, 'html.parser')\n",
    "\n",
    "# membuat wadah untuk menampung nilai\n",
    "nama_produk = []\n",
    "harga_produk = []\n",
    "penjual = []\n",
    "kota_toko = []\n",
    "banyaknya_terjual = []\n",
    "rating_produk = []\n",
    "\n",
    "# mencari kotak tempat elemen-elemen yang diperlukan berada\n",
    "boxes = page.find_all(\"div\", {\"class\": \"css-5wh65g\"})\n",
    "\n",
    "# mengambil nilai dari elemen-elemen yang diperoleh dalam kotak yang sudah dicari\n",
    "for box in boxes:\n",
    "    # melakukan try-except untuk mengambil nama dan menambahkan nilai 'None' jika nilai yang diperoleh berupa nonetype\n",
    "    try:\n",
    "\n",
    "        # mencari nama produk\n",
    "        list_nama = box.find(\"span\", {\"class\": \"OWkG6oHwAppMn1hIBsC3pQ==\"})\n",
    "        # memasukkan nilai ke wadah\n",
    "        for nama in list_nama:\n",
    "            nama_produk.append(nama.get_text().strip())\n",
    "    except:\n",
    "        nama_produk.append(None)\n",
    "\n",
    "    try:\n",
    "        # mencari harga produk\n",
    "        list_harga = box.find(\"div\", {\"class\":\"_8cR53N0JqdRc+mQCckhS0g==\"})\n",
    "        # Memasukkan nilai ke wadah\n",
    "        for harga in list_harga :\n",
    "            harga_produk.append(harga.get_text().strip())\n",
    "    except:\n",
    "        harga_produk.append(None)\n",
    "\n",
    "    try:\n",
    "        # mencari nama penjual\n",
    "        list_penjual = box.find(\"span\", {\"class\":\"X6c-fdwuofj6zGvLKVUaNQ== -9tiTbQgmU1vCjykywQqvA== flip\"})\n",
    "        # memasukkan nilai ke wadah\n",
    "        for penju in list_penjual:\n",
    "            penjual.append(penju.get_text().strip())\n",
    "    except:\n",
    "        penjual.append(None)\n",
    "\n",
    "    try:\n",
    "        # mencari lokasi toko\n",
    "        list_lokasi = box.find(\"span\", {\"class\":\"-9tiTbQgmU1vCjykywQqvA== flip\"})\n",
    "        # memasukkan nilai ke wadah\n",
    "        for lokasi in list_lokasi:\n",
    "            kota_toko.append(lokasi.get_text().strip())\n",
    "    except:\n",
    "        kota_toko.append(None)\n",
    "\n",
    "    try:\n",
    "        # mencari jumlah produk terjual\n",
    "        list_jumlah = box.find(\"span\", {\"class\":\"eLOomHl6J3IWAcdRU8M08A==\"})\n",
    "        # memasukkan ke wadah\n",
    "        for jumlah in list_jumlah:\n",
    "            banyaknya_terjual.append(jumlah.get_text().strip())\n",
    "    except:\n",
    "        banyaknya_terjual.append(None)\n",
    "\n",
    "    try:\n",
    "        # mencari rating produk\n",
    "        list_rating = box.find(\"span\", {\"class\":\"nBBbPk9MrELbIUbobepKbQ==\"})\n",
    "        # memasukkan nilai ke wadah\n",
    "        for rate in list_rating:\n",
    "            rating_produk.append(rate.get_text().strip())\n",
    "    except:\n",
    "        rating_produk.append(None)"
   ]
  },
  {
   "cell_type": "code",
   "execution_count": 93,
   "metadata": {},
   "outputs": [
    {
     "name": "stdout",
     "output_type": "stream",
     "text": [
      "85\n",
      "85\n",
      "85\n",
      "85\n",
      "85\n",
      "85\n"
     ]
    }
   ],
   "source": [
    "# melakukan pengecekan bahwa jumlah data dalam setiap wadah berjumlah sama\n",
    "print(len(nama_produk))\n",
    "print(len(harga_produk))\n",
    "print(len(penjual))\n",
    "print(len(kota_toko))\n",
    "print(len(banyaknya_terjual))\n",
    "print(len(rating_produk))"
   ]
  },
  {
   "cell_type": "code",
   "execution_count": 119,
   "metadata": {},
   "outputs": [
    {
     "name": "stdout",
     "output_type": "stream",
     "text": [
      "<class 'pandas.core.frame.DataFrame'>\n",
      "RangeIndex: 85 entries, 0 to 84\n",
      "Data columns (total 6 columns):\n",
      " #   Column             Non-Null Count  Dtype \n",
      "---  ------             --------------  ----- \n",
      " 0   nama produk        30 non-null     object\n",
      " 1   harga produk       30 non-null     object\n",
      " 2   penjual            30 non-null     object\n",
      " 3   kota toko          30 non-null     object\n",
      " 4   banyaknya terjual  30 non-null     object\n",
      " 5   rating produk      30 non-null     object\n",
      "dtypes: object(6)\n",
      "memory usage: 4.1+ KB\n"
     ]
    }
   ],
   "source": [
    "# Memasukkan nilai pada wadah ke sebuah dataframe dan mengecek data\n",
    "halaman = pd.DataFrame({\n",
    "    'nama produk' : nama_produk,\n",
    "    'harga produk': harga_produk,\n",
    "    'penjual' : penjual,\n",
    "    'kota toko': kota_toko,\n",
    "    'banyaknya terjual' : banyaknya_terjual,\n",
    "    'rating produk' : rating_produk\n",
    "})\n",
    "\n",
    "halaman.info()"
   ]
  },
  {
   "cell_type": "markdown",
   "metadata": {},
   "source": [
    "Berdasarkan info dari satu halaman diperoleh bahwa data yang diambil tiap halaman berjumlah 85 data namun hanya 30 yang tidak bernilai 'None'. Langkah selanjutnya adalah membuat code untuk melakukan web scrapping pada beberapa halaman dengan looping."
   ]
  },
  {
   "cell_type": "code",
   "execution_count": 135,
   "metadata": {},
   "outputs": [],
   "source": [
    "# membuat wadah\n",
    "nama_produk = []\n",
    "harga_produk = []\n",
    "penjual = []\n",
    "kota_toko = []\n",
    "banyaknya_terjual = []\n",
    "rating_produk = []\n",
    "\n",
    "driver = webdriver.Chrome()\n",
    "\n",
    "\n",
    "for page in range (1, 11):\n",
    "\n",
    "    # url\n",
    "    url = f'https://www.tokopedia.com/search?navsource=&page={page}&q=seblak&search_id=20240628081749F0B5CE305DD6F10372N7&srp_component_id=02.01.00.00&srp_page_id=&srp_page_title=&st='\n",
    "\n",
    "    # access website\n",
    "    driver.get(url)\n",
    "\n",
    "    # scroll website\n",
    "    driver.execute_script(\"window.scrollTo(0, 1080)\")\n",
    "\n",
    "    # memberikan jeda untuk memperoleh elemen\n",
    "    time.sleep(1)\n",
    "\n",
    "    driver.execute_script(\"window.scrollTo(1080, 2160)\")\n",
    "\n",
    "    time.sleep(1)\n",
    "\n",
    "    driver.execute_script(\"window.scrollTo(2160, 3240)\")\n",
    "\n",
    "    time.sleep(1)\n",
    "\n",
    "    driver.execute_script(\"window.scrollTo(3240, 4320)\")\n",
    "\n",
    "    time.sleep(1)\n",
    "\n",
    "    # mengambil elemen\n",
    "    html = driver.page_source\n",
    "\n",
    "    # parsing\n",
    "    page = BeautifulSoup(html, 'html.parser')\n",
    "\n",
    "    # search for boxes\n",
    "    boxes = page.find_all(\"div\", {\"class\": \"css-5wh65g\"})\n",
    "\n",
    "    # menggunakan code sebelumnya dalan for-loop\n",
    "    for box in boxes:\n",
    "        try:\n",
    "\n",
    "            # mencari nama produk\n",
    "            list_nama = box.find(\"span\", {\"class\": \"OWkG6oHwAppMn1hIBsC3pQ==\"})\n",
    "            # memasukkan nilai ke wadah\n",
    "            for nama in list_nama:\n",
    "                nama_produk.append(nama.get_text().strip())\n",
    "        except:\n",
    "            nama_produk.append(None)\n",
    "\n",
    "        try:\n",
    "            # mencari harga produk\n",
    "            list_harga = box.find(\"div\", {\"class\":\"_8cR53N0JqdRc+mQCckhS0g==\"})\n",
    "            # memasukkan nilai ke wadah\n",
    "            for harga in list_harga :\n",
    "                harga_produk.append(harga.get_text().strip())\n",
    "        except:\n",
    "            harga_produk.append(None)\n",
    "\n",
    "        try:\n",
    "            # mencari nama penjual\n",
    "            list_penjual = box.find(\"span\", {\"class\":\"X6c-fdwuofj6zGvLKVUaNQ== -9tiTbQgmU1vCjykywQqvA== flip\"})\n",
    "            # memasukkan nilai ke wadah\n",
    "            for penju in list_penjual:\n",
    "                penjual.append(penju.get_text().strip())\n",
    "        except:\n",
    "            penjual.append(None)\n",
    "\n",
    "        try:\n",
    "            # mencari lokasi toko\n",
    "            list_lokasi = box.find(\"span\", {\"class\":\"-9tiTbQgmU1vCjykywQqvA== flip\"})\n",
    "            # memasukkan nilai ke wadah\n",
    "            for lokasi in list_lokasi:\n",
    "                kota_toko.append(lokasi.get_text().strip())\n",
    "        except:\n",
    "            kota_toko.append(None)\n",
    "\n",
    "        try:\n",
    "            # mencari jumlah produk terjual\n",
    "            list_jumlah = box.find(\"span\", {\"class\":\"eLOomHl6J3IWAcdRU8M08A==\"})\n",
    "            # memasukkan nilai ke wadah\n",
    "            for jumlah in list_jumlah:\n",
    "                banyaknya_terjual.append(jumlah.get_text().strip())\n",
    "        except:\n",
    "            banyaknya_terjual.append(None)\n",
    "\n",
    "        try:\n",
    "            # mencari rating produk\n",
    "            list_rating = box.find(\"span\", {\"class\":\"nBBbPk9MrELbIUbobepKbQ==\"})\n",
    "            # memasukkan nilai ke wadah\n",
    "            for rate in list_rating:\n",
    "                rating_produk.append(rate.get_text().strip())\n",
    "        except:\n",
    "            rating_produk.append(None)"
   ]
  },
  {
   "cell_type": "code",
   "execution_count": 136,
   "metadata": {},
   "outputs": [
    {
     "name": "stdout",
     "output_type": "stream",
     "text": [
      "805\n",
      "805\n",
      "805\n",
      "805\n",
      "805\n",
      "805\n"
     ]
    }
   ],
   "source": [
    "print(len(nama_produk))\n",
    "print(len(harga_produk))\n",
    "print(len(penjual))\n",
    "print(len(kota_toko))\n",
    "print(len(banyaknya_terjual))\n",
    "print(len(rating_produk))"
   ]
  },
  {
   "cell_type": "code",
   "execution_count": 137,
   "metadata": {},
   "outputs": [
    {
     "name": "stdout",
     "output_type": "stream",
     "text": [
      "<class 'pandas.core.frame.DataFrame'>\n",
      "RangeIndex: 805 entries, 0 to 804\n",
      "Data columns (total 6 columns):\n",
      " #   Column             Non-Null Count  Dtype \n",
      "---  ------             --------------  ----- \n",
      " 0   nama produk        800 non-null    object\n",
      " 1   harga produk       800 non-null    object\n",
      " 2   penjual            800 non-null    object\n",
      " 3   kota toko          800 non-null    object\n",
      " 4   banyaknya terjual  774 non-null    object\n",
      " 5   rating produk      751 non-null    object\n",
      "dtypes: object(6)\n",
      "memory usage: 37.9+ KB\n"
     ]
    }
   ],
   "source": [
    "# Memasukkan nilai pada wadah ke sebuah dataframe\n",
    "df = pd.DataFrame({\n",
    "    'nama produk' : nama_produk,\n",
    "    'harga produk': harga_produk,\n",
    "    'penjual' : penjual,\n",
    "    'kota toko': kota_toko,\n",
    "    'banyaknya terjual' : banyaknya_terjual,\n",
    "    'rating produk' : rating_produk\n",
    "})\n"
   ]
  },
  {
   "cell_type": "code",
   "execution_count": 138,
   "metadata": {},
   "outputs": [],
   "source": [
    "# Mengeksport data ke file csv\n",
    "df.to_csv(\"seblak.csv\")"
   ]
  },
  {
   "cell_type": "markdown",
   "metadata": {},
   "source": [
    "# B. Data Preparation"
   ]
  },
  {
   "cell_type": "markdown",
   "metadata": {},
   "source": [
    "## 1. Eksplorasi Data"
   ]
  },
  {
   "cell_type": "code",
   "execution_count": 3,
   "metadata": {},
   "outputs": [],
   "source": [
    "# Import csv\n",
    "seblak_data = pd.read_csv(\"seblak.csv\")"
   ]
  },
  {
   "cell_type": "code",
   "execution_count": 4,
   "metadata": {},
   "outputs": [
    {
     "data": {
      "text/html": [
       "<div>\n",
       "<style scoped>\n",
       "    .dataframe tbody tr th:only-of-type {\n",
       "        vertical-align: middle;\n",
       "    }\n",
       "\n",
       "    .dataframe tbody tr th {\n",
       "        vertical-align: top;\n",
       "    }\n",
       "\n",
       "    .dataframe thead th {\n",
       "        text-align: right;\n",
       "    }\n",
       "</style>\n",
       "<table border=\"1\" class=\"dataframe\">\n",
       "  <thead>\n",
       "    <tr style=\"text-align: right;\">\n",
       "      <th></th>\n",
       "      <th>Unnamed: 0</th>\n",
       "      <th>nama produk</th>\n",
       "      <th>harga produk</th>\n",
       "      <th>penjual</th>\n",
       "      <th>kota toko</th>\n",
       "      <th>banyaknya terjual</th>\n",
       "      <th>rating produk</th>\n",
       "    </tr>\n",
       "  </thead>\n",
       "  <tbody>\n",
       "    <tr>\n",
       "      <th>0</th>\n",
       "      <td>0</td>\n",
       "      <td>Seblak Rafael/Seblak Coet Instan Halal</td>\n",
       "      <td>Rp26.600</td>\n",
       "      <td>Foodstocks</td>\n",
       "      <td>Jakarta Selatan</td>\n",
       "      <td>250+ terjual</td>\n",
       "      <td>5.0</td>\n",
       "    </tr>\n",
       "    <tr>\n",
       "      <th>1</th>\n",
       "      <td>1</td>\n",
       "      <td>Seblak Rafael, Seblak Coet Instan Halal</td>\n",
       "      <td>Rp25.000</td>\n",
       "      <td>Brother Meat Shop</td>\n",
       "      <td>Depok</td>\n",
       "      <td>500+ terjual</td>\n",
       "      <td>5.0</td>\n",
       "    </tr>\n",
       "    <tr>\n",
       "      <th>2</th>\n",
       "      <td>2</td>\n",
       "      <td>kerupuk seblak pedas 1 kg / kerupuk seblak</td>\n",
       "      <td>Rp35.625</td>\n",
       "      <td>Adila_Putri_Snack</td>\n",
       "      <td>Kab.Ciamis</td>\n",
       "      <td>100+ terjual</td>\n",
       "      <td>4.8</td>\n",
       "    </tr>\n",
       "    <tr>\n",
       "      <th>3</th>\n",
       "      <td>3</td>\n",
       "      <td>seblak kerupuk beton/jaat pedas daun jeruk isi...</td>\n",
       "      <td>Rp36.000</td>\n",
       "      <td>Cemilan huhah</td>\n",
       "      <td>Kab. Bandung</td>\n",
       "      <td>NaN</td>\n",
       "      <td>NaN</td>\n",
       "    </tr>\n",
       "    <tr>\n",
       "      <th>4</th>\n",
       "      <td>4</td>\n",
       "      <td>Seblak Instan</td>\n",
       "      <td>Rp8.000</td>\n",
       "      <td>ROEMAH MOSLEM</td>\n",
       "      <td>Kab. Boyolali</td>\n",
       "      <td>70+ terjual</td>\n",
       "      <td>5.0</td>\n",
       "    </tr>\n",
       "  </tbody>\n",
       "</table>\n",
       "</div>"
      ],
      "text/plain": [
       "   Unnamed: 0                                        nama produk harga produk  \\\n",
       "0           0             Seblak Rafael/Seblak Coet Instan Halal     Rp26.600   \n",
       "1           1            Seblak Rafael, Seblak Coet Instan Halal     Rp25.000   \n",
       "2           2         kerupuk seblak pedas 1 kg / kerupuk seblak     Rp35.625   \n",
       "3           3  seblak kerupuk beton/jaat pedas daun jeruk isi...     Rp36.000   \n",
       "4           4                                      Seblak Instan      Rp8.000   \n",
       "\n",
       "             penjual        kota toko banyaknya terjual  rating produk  \n",
       "0         Foodstocks  Jakarta Selatan      250+ terjual            5.0  \n",
       "1  Brother Meat Shop            Depok      500+ terjual            5.0  \n",
       "2  Adila_Putri_Snack       Kab.Ciamis      100+ terjual            4.8  \n",
       "3      Cemilan huhah     Kab. Bandung               NaN            NaN  \n",
       "4      ROEMAH MOSLEM    Kab. Boyolali       70+ terjual            5.0  "
      ]
     },
     "execution_count": 4,
     "metadata": {},
     "output_type": "execute_result"
    }
   ],
   "source": [
    "# Menampilkan beberapa data dalam dataframe\n",
    "seblak_data.head()"
   ]
  },
  {
   "cell_type": "markdown",
   "metadata": {},
   "source": [
    "Berdasarkan tampilan kepala data, didapatkan bahwa tabel berisi 7 kolom. dalam kolom 'banyaknya terjual' dan 'rating produk' terdapat nilai NaN yang didapat karena produk tersebut baru dijual sehingga belum memiliki data jumlah produk terjual dan rating produk. Nilai NaN ini dapat mempengaruhi analisis data sehingga nanti perlu dilakukan pembersihan data pada tabel ini."
   ]
  },
  {
   "cell_type": "code",
   "execution_count": 5,
   "metadata": {},
   "outputs": [
    {
     "name": "stdout",
     "output_type": "stream",
     "text": [
      "<class 'pandas.core.frame.DataFrame'>\n",
      "RangeIndex: 805 entries, 0 to 804\n",
      "Data columns (total 7 columns):\n",
      " #   Column             Non-Null Count  Dtype  \n",
      "---  ------             --------------  -----  \n",
      " 0   Unnamed: 0         805 non-null    int64  \n",
      " 1   nama produk        800 non-null    object \n",
      " 2   harga produk       800 non-null    object \n",
      " 3   penjual            800 non-null    object \n",
      " 4   kota toko          800 non-null    object \n",
      " 5   banyaknya terjual  774 non-null    object \n",
      " 6   rating produk      751 non-null    float64\n",
      "dtypes: float64(1), int64(1), object(5)\n",
      "memory usage: 44.2+ KB\n"
     ]
    }
   ],
   "source": [
    "# Menampilkan rangkuman data\n",
    "seblak_data.info()"
   ]
  },
  {
   "cell_type": "markdown",
   "metadata": {},
   "source": [
    "Informasi rangkuman dari data menunjukkan bahwa terdapat perbedaan jumlah data pada setiap kolom dan tipe kolom 'harga produk' dan 'banyaknya terjual' masih belum sesuai dimana tipe kedua kolom tersebut saat ini adalah 'object'. Perlu dilakukan penanganan missing value untuk menyamakan jumlah data semua kolom dan pembersihan serta penggantian tipe data pada kolom 'harga produk' dan 'banyaknya terjual' ke tipe float agar dapat melakukan analisis pada kedua kolom tersebut."
   ]
  },
  {
   "cell_type": "code",
   "execution_count": 6,
   "metadata": {},
   "outputs": [
    {
     "data": {
      "text/plain": [
       "Unnamed: 0            0\n",
       "nama produk           5\n",
       "harga produk          5\n",
       "penjual               5\n",
       "kota toko             5\n",
       "banyaknya terjual    31\n",
       "rating produk        54\n",
       "dtype: int64"
      ]
     },
     "execution_count": 6,
     "metadata": {},
     "output_type": "execute_result"
    }
   ],
   "source": [
    "# Pengecekan missing value\n",
    "seblak_data.isnull().sum()"
   ]
  },
  {
   "cell_type": "markdown",
   "metadata": {},
   "source": [
    "Berdasarkan pengecekan missing value, terdapat 5 nilai yang hilang dari kolom 'nama produk', 'harga produk', 'penjual' dan 'kota toko'. untuk nilai hilang pada kolom-kolom tersebut akan dihapus barisnya. Pada kolom 'banyaknya terjual' dan 'rating produk' nilai missing akan diganti menjadi 0 untuk lebih menggambarkan nilai dari produk tersebut."
   ]
  },
  {
   "cell_type": "code",
   "execution_count": 7,
   "metadata": {},
   "outputs": [],
   "source": [
    "# Menghapus missing value pada kolom 'nama produk'\n",
    "seblak_data_namaclean = seblak_data.dropna(subset=['nama produk'])"
   ]
  },
  {
   "cell_type": "code",
   "execution_count": 8,
   "metadata": {},
   "outputs": [
    {
     "data": {
      "text/plain": [
       "Unnamed: 0            0\n",
       "nama produk           0\n",
       "harga produk          0\n",
       "penjual               0\n",
       "kota toko             0\n",
       "banyaknya terjual    26\n",
       "rating produk        49\n",
       "dtype: int64"
      ]
     },
     "execution_count": 8,
     "metadata": {},
     "output_type": "execute_result"
    }
   ],
   "source": [
    "# pengecekan kembali terhadap missing value yang tersisa\n",
    "seblak_data_namaclean.isnull().sum()"
   ]
  },
  {
   "cell_type": "markdown",
   "metadata": {},
   "source": [
    "Missing value pada setiap kolom telah berkurang 5. Missing value yang tersisa di kolom 'banyaknya terjual' dan 'rating produk' sebaiknya tidak dihilangkan namun diganti menjadi '0' dengan asumsi produk tersebut baru dijual sehingga belum memiliki data jumlah produk terjual dan rating produk untuk perhitungan yang lebih bagus."
   ]
  },
  {
   "cell_type": "code",
   "execution_count": 9,
   "metadata": {},
   "outputs": [],
   "source": [
    "# Mengganti missing value yang tersisa menjadi 0\n",
    "seblak_clean = seblak_data_namaclean.fillna(0)"
   ]
  },
  {
   "cell_type": "code",
   "execution_count": 10,
   "metadata": {},
   "outputs": [
    {
     "name": "stdout",
     "output_type": "stream",
     "text": [
      "<class 'pandas.core.frame.DataFrame'>\n",
      "Index: 800 entries, 0 to 804\n",
      "Data columns (total 7 columns):\n",
      " #   Column             Non-Null Count  Dtype  \n",
      "---  ------             --------------  -----  \n",
      " 0   Unnamed: 0         800 non-null    int64  \n",
      " 1   nama produk        800 non-null    object \n",
      " 2   harga produk       800 non-null    object \n",
      " 3   penjual            800 non-null    object \n",
      " 4   kota toko          800 non-null    object \n",
      " 5   banyaknya terjual  800 non-null    object \n",
      " 6   rating produk      800 non-null    float64\n",
      "dtypes: float64(1), int64(1), object(5)\n",
      "memory usage: 50.0+ KB\n"
     ]
    }
   ],
   "source": [
    "# Pengecekan ulang\n",
    "seblak_clean.info()"
   ]
  },
  {
   "cell_type": "markdown",
   "metadata": {},
   "source": [
    "Jumlah data setiap kolom sudah sama, selanjutnya perlu dilakukan pembersihan data pada kolom 'harga produk' dan 'banyaknya terjual' sebelum diubah tipe datanya menjadi float."
   ]
  },
  {
   "cell_type": "code",
   "execution_count": 11,
   "metadata": {},
   "outputs": [
    {
     "data": {
      "text/plain": [
       "array(['Rp26.600', 'Rp25.000', 'Rp35.625', 'Rp36.000', 'Rp8.000',\n",
       "       'Rp5.900', 'Rp12.225', 'Rp5.750', 'Rp18.000', 'Rp6.000', 'Rp8.200',\n",
       "       'Rp17.000', 'Rp16.000', 'Rp11.500', 'Rp14.000', 'Rp5.999',\n",
       "       'Rp5.558', 'Rp4.450', 'Rp3.500', 'Rp12.788', 'Rp9.999', 'Rp54.825',\n",
       "       'Rp13.000', 'Rp35.000', 'Rp24.500', 'Rp85.000', 'Rp38.000',\n",
       "       'Rp19.000', 'Rp31.500', 'Rp30.000', 'Rp5.500', 'Rp19.500',\n",
       "       'Rp14.375', 'Rp7.138', 'Rp15.750', 'Rp5.000', 'Rp15.000',\n",
       "       'Rp7.500', 'Rp17.499', 'Rp26.500', 'Rp26.666', 'Rp21.750',\n",
       "       'Rp6.499', 'Rp25.750', 'Rp4.000', 'Rp51.771', 'Rp3.900',\n",
       "       'Rp29.000', 'Rp65.000', 'Rp45.500', 'Rp18.999', 'Rp30.150',\n",
       "       'Rp13.900', 'Rp44.500', 'Rp20.000', 'Rp45.000', 'Rp7.250',\n",
       "       'Rp14.990', 'Rp24.225', 'Rp7.142', 'Rp51.152', 'Rp4.200',\n",
       "       'Rp41.000', 'Rp12.250', 'Rp9.000', 'Rp10.000', 'Rp12.500',\n",
       "       'Rp13.999', 'Rp93.840', 'Rp25.999', 'Rp14.999', 'Rp28.500',\n",
       "       'Rp47.840', 'Rp8.380', 'Rp64.000', 'Rp18.500', 'Rp27.500',\n",
       "       'Rp12.825', 'Rp3.479', 'Rp17.850', 'Rp5.100', 'Rp29.760',\n",
       "       'Rp56.300', 'Rp4.500', 'Rp27.999', 'Rp23.000', 'Rp39.525',\n",
       "       'Rp15.999', 'Rp25.576', 'Rp51.900', 'Rp12.999', 'Rp16.999',\n",
       "       'Rp32.999', 'Rp16.555', 'Rp37.000', 'Rp23.500', 'Rp4.180',\n",
       "       'Rp6.800', 'Rp8.900', 'Rp12.000', 'Rp33.999', 'Rp6.999',\n",
       "       'Rp40.000', 'Rp42.500', 'Rp7.950', 'Rp5.400', 'Rp19.950',\n",
       "       'Rp8.800', 'Rp28.861', 'Rp37.799', 'Rp22.500', 'Rp6.700',\n",
       "       'Rp11.000', 'Rp34.999', 'Rp19.975', 'Rp7.999', 'Rp32.500',\n",
       "       'Rp46.000', 'Rp105.705', 'Rp47.900', 'Rp2.500', 'Rp28.000',\n",
       "       'Rp140.000', 'Rp23.950', 'Rp14.250', 'Rp8.500', 'Rp9.916',\n",
       "       'Rp50.920', 'Rp18.360', 'Rp26.125', 'Rp75.430', 'Rp16.800',\n",
       "       'Rp38.999', 'Rp7.400', 'Rp23.512', 'Rp20.482', 'Rp22.325',\n",
       "       'Rp14.960', 'Rp35.999', 'Rp9.300', 'Rp86.130', 'Rp5.048',\n",
       "       'Rp14.500', 'Rp3.800', 'Rp90.000', 'Rp13.600', 'Rp21.375',\n",
       "       'Rp122.550', 'Rp17.999', 'Rp21.000', 'Rp25.500', 'Rp14.900',\n",
       "       'Rp294.120', 'Rp39.999', 'Rp35.789', 'Rp14.590', 'Rp9.500',\n",
       "       'Rp15.897', 'Rp99.615', 'Rp17.300', 'Rp55.000', 'Rp15.500',\n",
       "       'Rp12.900', 'Rp10.999', 'Rp3.700', 'Rp34.500', 'Rp7.450',\n",
       "       'Rp8.355', 'Rp62.000', 'Rp4.951', 'Rp12.300', 'Rp20.999',\n",
       "       'Rp10.500', 'Rp44.000', 'Rp38.880', 'Rp5.702', 'Rp3.000',\n",
       "       'Rp24.700', 'Rp21.700', 'Rp5.950', 'Rp22.000', 'Rp70.000',\n",
       "       'Rp30.500', 'Rp8.950', 'Rp4.950', 'Rp111.795', 'Rp25.900',\n",
       "       'Rp18.599', 'Rp23.400', 'Rp36.500', 'Rp13.500', 'Rp6.666',\n",
       "       'Rp34.000', 'Rp11.999', 'Rp47.000', 'Rp34.560', 'Rp53.000',\n",
       "       'Rp3.999', 'Rp78.280', 'Rp16.700', 'Rp28.615', 'Rp44.999',\n",
       "       'Rp6.250', 'Rp4.999', 'Rp10.965', 'Rp89.999', 'Rp9.900',\n",
       "       'Rp10.599', 'Rp7.000', 'Rp3.400', 'Rp2.000', 'Rp17.500',\n",
       "       'Rp67.900', 'Rp26.000', 'Rp34.950', 'Rp20.750', 'Rp79.000',\n",
       "       'Rp63.000', 'Rp51.870', 'Rp16.500', 'Rp10.888', 'Rp12.165',\n",
       "       'Rp187.050', 'Rp5.499', 'Rp106.000', 'Rp6.200', 'Rp5.700',\n",
       "       'Rp305.200', 'Rp19.110', 'Rp2.600', 'Rp115.000', 'Rp7.399',\n",
       "       'Rp50.000', 'Rp22.990', 'Rp21.599', 'Rp15.520', 'Rp6.850',\n",
       "       'Rp48.000', 'Rp7.200', 'Rp17.900', 'Rp22.900', 'Rp20.425',\n",
       "       'Rp51.060', 'Rp2.881', 'Rp7.960', 'Rp19.900', 'Rp4.250',\n",
       "       'Rp46.750', 'Rp8.999', 'Rp64.815', 'Rp8.499', 'Rp6.500',\n",
       "       'Rp650.000', 'Rp24.000', 'Rp4.750', 'Rp5.850', 'Rp19.100',\n",
       "       'Rp52.440', 'Rp27.075', 'Rp7.821', 'Rp22.800', 'Rp17.700',\n",
       "       'Rp32.400', 'Rp242.000', 'Rp9.360', 'Rp39.059', 'Rp13.591',\n",
       "       'Rp75.000', 'Rp23.275', 'Rp8.100', 'Rp39.000', 'Rp100.000',\n",
       "       'Rp53.500', 'Rp4.025', 'Rp6.142', 'Rp32.900', 'Rp16.900',\n",
       "       'Rp3.499', 'Rp8.600', 'Rp3.000.000', 'Rp128.000', 'Rp11.900',\n",
       "       'Rp9.859', 'Rp7.941', 'Rp5.300', 'Rp63.940', 'Rp7.750', 'Rp18.210',\n",
       "       'Rp10.900', 'Rp4.299', 'Rp16.990', 'Rp14.399', 'Rp13.200', 'Rp400',\n",
       "       'Rp11.700', 'Rp5.350', 'Rp40.999', 'Rp8.075'], dtype=object)"
      ]
     },
     "execution_count": 11,
     "metadata": {},
     "output_type": "execute_result"
    }
   ],
   "source": [
    "# Menampilkan nilai pada kolom 'harga produk'\n",
    "seblak_clean['harga produk'].unique()"
   ]
  },
  {
   "cell_type": "markdown",
   "metadata": {},
   "source": [
    "Berdasarkan info diatas, kolom ini perlu dilakukan penghapusan 'Rp' dan pemisah ribuan '.' sebelum diubah tipenya menjadi float."
   ]
  },
  {
   "cell_type": "code",
   "execution_count": 12,
   "metadata": {},
   "outputs": [],
   "source": [
    "# menghilangkan 'Rp', '.' dan mengubah tipe data menjadi float\n",
    "seblak_clean['harga produk'] = seblak_clean['harga produk'].str.replace('Rp', '')\n",
    "seblak_clean['harga produk'] = seblak_clean['harga produk'].str.replace('.', '')\n",
    "seblak_clean['harga produk'] = seblak_clean['harga produk'].astype(float)\n"
   ]
  },
  {
   "cell_type": "code",
   "execution_count": 13,
   "metadata": {},
   "outputs": [
    {
     "data": {
      "text/plain": [
       "array(['250+ terjual', '500+ terjual', '100+ terjual', 0, '70+ terjual',\n",
       "       '750+ terjual', '2rb+ terjual', '1rb+ terjual', '10rb+ terjual',\n",
       "       '4 terjual', '3rb+ terjual', '4rb+ terjual', '29 terjual',\n",
       "       '1 terjual', '60+ terjual', '24 terjual', '7rb+ terjual',\n",
       "       '20 terjual', '2 terjual', '13 terjual', '40+ terjual',\n",
       "       '80+ terjual', '50+ terjual', '11 terjual', '30+ terjual',\n",
       "       '14 terjual', '17 terjual', '9 terjual', '8rb+ terjual',\n",
       "       '5 terjual', '21 terjual', '12 terjual', '22 terjual', '7 terjual',\n",
       "       '16 terjual', '28 terjual', '10 terjual', '6 terjual', '8 terjual',\n",
       "       '23 terjual', '25 terjual', '90+ terjual', '19 terjual',\n",
       "       '15 terjual', '18 terjual', '3 terjual', '5rb+ terjual',\n",
       "       '26 terjual', '27 terjual'], dtype=object)"
      ]
     },
     "execution_count": 13,
     "metadata": {},
     "output_type": "execute_result"
    }
   ],
   "source": [
    "# Menampilkan nilai pada kolom 'harga produk'\n",
    "seblak_clean['banyaknya terjual'].unique()"
   ]
  },
  {
   "cell_type": "markdown",
   "metadata": {},
   "source": [
    "Untuk kolom banyaknya terjual, karena setelah mengganti missing value menjadi '0' membuat tipe data dalam kolom tersebut tercampur antara string dan integer, pertama tipe data kolom perlu diubah menjadi string dahulu sebelum dilakukan pembersihan string berupa menghapus kata ' terjual' lalu mengubah 'rb+' menjadi '000' dan menghilangkan tanda '+' yang tersisa lalu diubah tipenya menjadi float."
   ]
  },
  {
   "cell_type": "code",
   "execution_count": 14,
   "metadata": {},
   "outputs": [],
   "source": [
    "# mengubah tipe data menjadi string, lalu melakukan pembersihan string dan akhirnya mengubah tipe data menjadi float\n",
    "seblak_clean['banyaknya terjual'] = seblak_clean['banyaknya terjual'].astype(str)\n",
    "seblak_clean['banyaknya terjual'] = seblak_clean['banyaknya terjual'].str.replace(' terjual', '')\n",
    "seblak_clean['banyaknya terjual'] = seblak_clean['banyaknya terjual'].str.replace('rb+', '000')\n",
    "seblak_clean['banyaknya terjual'] = seblak_clean['banyaknya terjual'].str.replace('+', '')\n",
    "seblak_clean['banyaknya terjual'] = seblak_clean['banyaknya terjual'].astype(float)"
   ]
  },
  {
   "cell_type": "code",
   "execution_count": 15,
   "metadata": {},
   "outputs": [],
   "source": [
    "# menghapus kolom 'Unnamed: 0'\n",
    "seblak_clean = seblak_clean.drop(['Unnamed: 0'], axis=1)"
   ]
  },
  {
   "cell_type": "code",
   "execution_count": 16,
   "metadata": {},
   "outputs": [
    {
     "name": "stdout",
     "output_type": "stream",
     "text": [
      "<class 'pandas.core.frame.DataFrame'>\n",
      "Index: 800 entries, 0 to 804\n",
      "Data columns (total 6 columns):\n",
      " #   Column             Non-Null Count  Dtype  \n",
      "---  ------             --------------  -----  \n",
      " 0   nama produk        800 non-null    object \n",
      " 1   harga produk       800 non-null    float64\n",
      " 2   penjual            800 non-null    object \n",
      " 3   kota toko          800 non-null    object \n",
      " 4   banyaknya terjual  800 non-null    float64\n",
      " 5   rating produk      800 non-null    float64\n",
      "dtypes: float64(3), object(3)\n",
      "memory usage: 43.8+ KB\n"
     ]
    }
   ],
   "source": [
    "# cek info data\n",
    "seblak_clean.info()"
   ]
  },
  {
   "cell_type": "markdown",
   "metadata": {},
   "source": [
    "jumlah data pada seluruh kolom sudah sama, tipe data untuk harga produk dan jumlah produk terjual sudah diganti dengan float, pembersihan data selesai."
   ]
  },
  {
   "cell_type": "markdown",
   "metadata": {},
   "source": [
    "# C. Problem Statement"
   ]
  },
  {
   "cell_type": "markdown",
   "metadata": {},
   "source": [
    "## SMART Framework"
   ]
  },
  {
   "cell_type": "markdown",
   "metadata": {},
   "source": [
    "S: Menjual seblak di Tokopedia dengan sistem dropship\n",
    "\n",
    "M: GMV per bulan sebesar Rp 8,000,000.00\n",
    "\n",
    "A: Berdasarkan rata-rata harga jual dan jumlah produk terjual di Tokopedia, GMV sebesar Rp 8,000,000.00 dapat tercapai\n",
    "\n",
    "R: Seblak merupakan makanan yang diminati banyak orang saat ini\n",
    "\n",
    "T: Proyek ini akan dijalankan dalam waktu 2 bulan"
   ]
  },
  {
   "cell_type": "markdown",
   "metadata": {},
   "source": [
    "## Kesimpulan"
   ]
  },
  {
   "cell_type": "markdown",
   "metadata": {},
   "source": [
    "Menjual seblak dengan sistem dropship di Tokopedia dapat dilakukan untuk mendapatkan penghasilan tambahan dengan perkiraan GMV sebesar Rp 8,000,000 dalam waktu 2 bulan."
   ]
  },
  {
   "cell_type": "markdown",
   "metadata": {},
   "source": [
    "# D. Analisis"
   ]
  },
  {
   "cell_type": "markdown",
   "metadata": {},
   "source": [
    "1. Untuk memiliki gambaran seperti apa pasar penjualan seblak di Tokopedia, saya mencari nilai rata-rata, median, dan standar deviasi dari kolom harga, banyak produk yang terjual, dan rating. setelah itu, saya juga mengecek nilai skewness dan kurtosis dari kolom-kolom tersebut untuk mengetahui apakah distribusi data yang saya peroleh cukup menggambarkan kondisi pasar seblak dengan baik."
   ]
  },
  {
   "cell_type": "code",
   "execution_count": 25,
   "metadata": {},
   "outputs": [],
   "source": [
    "# import library yang dibutuhkan\n",
    "from scipy import stats\n",
    "import numpy as np"
   ]
  },
  {
   "cell_type": "code",
   "execution_count": 18,
   "metadata": {},
   "outputs": [
    {
     "name": "stdout",
     "output_type": "stream",
     "text": [
      "Harga seblak rata-rata: 26760.04875\n",
      "Median harga seblak: 15000.0\n",
      "Modus harga seblak: 8000.0\n",
      "Standar deviasi harga seblak 110795.7898545704\n",
      "Skewness harga seblak 24.53355197018115\n",
      "Nilai Kurtosis harga seblak 652.3268382519445\n"
     ]
    }
   ],
   "source": [
    "# Analisis harga seblak\n",
    "print('Harga seblak rata-rata:',seblak_clean['harga produk'].mean())\n",
    "print('Median harga seblak:',seblak_clean['harga produk'].median())\n",
    "print('Modus harga seblak:',seblak_clean['harga produk'].mode().values[0])\n",
    "print('Standar deviasi harga seblak',seblak_clean['harga produk'].std())\n",
    "print('Skewness harga seblak',seblak_clean['harga produk'].skew())\n",
    "print('Nilai Kurtosis harga seblak',seblak_clean['harga produk'].kurtosis())"
   ]
  },
  {
   "cell_type": "markdown",
   "metadata": {},
   "source": [
    "Berdasarkan perhitungan rata-rata, median, dan modus harga seblak diketahui bahwa harga rata-rata produk seblak di Tokopedia adalah Rp 26,760.00 dengan nilai median harga seblak sebesar Rp 15,000.00. Hal ini menunjukkan bahwa kemungkinan beberapa toko menjual seblak dengan harga tinggi sehingga menarik harga rata-rata lebih tinggi dari harga median walaupun kebanyakan toko menaruh harga dibawah harga median. Standar deviasi menunjukkan bahwa rata-rata toko menjual seblaknya dengan variasi harga sebesar Rp 11,0795.00 dibanding harga rata-rata di Tokopedia. Skewness yang positif menunjukkan bahwa distribusi harga seblak bersifat skewed dan tidak normal dimana kebanyakan toko menjual seblak dengan harga dibawah rata-rata sehingga ekor dari distribusi harga seblak mengarah ke kanan. Nilai kurtosis yang tinggi menunjukkan bahwa banyak terdapat outlier pada data."
   ]
  },
  {
   "cell_type": "code",
   "execution_count": 19,
   "metadata": {},
   "outputs": [
    {
     "name": "stdout",
     "output_type": "stream",
     "text": [
      "jumlah produk terjual rata-rata: 398.9925\n",
      "Median jumlah produk terjual: 90.0\n",
      "Modus jumlah terjual: 100.0\n",
      "Standar deviasi jumlah terjual 1151.0426225133049\n",
      "Skewness jumlah terjual 5.894325546474521\n",
      "Nilai Kurtosis jumlah terjual 40.85310785155784\n"
     ]
    }
   ],
   "source": [
    "# Analisis jumlah produk terjual\n",
    "print('jumlah produk terjual rata-rata:',seblak_clean['banyaknya terjual'].mean())\n",
    "print('Median jumlah produk terjual:',seblak_clean['banyaknya terjual'].median())\n",
    "print('Modus jumlah terjual:',seblak_clean['banyaknya terjual'].mode().values[0])\n",
    "print('Standar deviasi jumlah terjual',seblak_clean['banyaknya terjual'].std())\n",
    "print('Skewness jumlah terjual',seblak_clean['banyaknya terjual'].skew())\n",
    "print('Nilai Kurtosis jumlah terjual',seblak_clean['banyaknya terjual'].kurtosis())"
   ]
  },
  {
   "cell_type": "markdown",
   "metadata": {},
   "source": [
    "Berdasarkan perhitungan diatas, nilai rata-rata penjualan seblak lebih banyak dari nilai tengah dari penjualan seblak seluruh toko dari sampel data yang diambil dan dari nilai modus juga dapat disimpulkan kebanyakan toko menjual seblak lebih banyak dari nilai tengah dari penjualan seblak seluruh toko. Standar deviasi menunjukkan adanya beberapa toko yang menjual jauh lebih banyak atau lebih sedikit dari rata-rata penjualan toko lainnya. Nilai skewness yang positif menunjukkan bahwa distribusi jumlah penjualan seblak setiap toko kebanyakan berada dibawah nilai rata-rata dengan ekor distribusi di sebelah kanan. Nilai kurtosis yang tinggi menunjukkan bahwa banyak terdapat outlier pada data."
   ]
  },
  {
   "cell_type": "code",
   "execution_count": 20,
   "metadata": {},
   "outputs": [
    {
     "name": "stdout",
     "output_type": "stream",
     "text": [
      "rating rata-rata: 4.577125\n",
      "Median rating: 4.9\n",
      "Modus rating: 4.9\n",
      "Standar deviasi rating 1.1785374081474855\n",
      "Skewness rating -3.5793988615845214\n",
      "Nilai Kurtosis rating 11.0542726408479\n"
     ]
    }
   ],
   "source": [
    "# Analisis rating\n",
    "print('rating rata-rata:',seblak_clean['rating produk'].mean())\n",
    "print('Median rating:',seblak_clean['rating produk'].median())\n",
    "print('Modus rating:',seblak_clean['rating produk'].mode().values[0])\n",
    "print('Standar deviasi rating',seblak_clean['rating produk'].std())\n",
    "print('Skewness rating',seblak_clean['rating produk'].skew())\n",
    "print('Nilai Kurtosis rating',seblak_clean['rating produk'].kurtosis())"
   ]
  },
  {
   "cell_type": "markdown",
   "metadata": {},
   "source": [
    "Berdasarkan perhitungan diatas, rata-rata rating produk berada dibawah nilai tengah dan modus dari distribusi nilai rating produk seblak di Tokopedia. Standar deviasi yang kecil menunjukkan bahwa variasi nilai rating produk seblak di Tokopedia tidak jauh dari nilai rata-ratanya. Nilai skewness yang negatif menunjukkan bahwa kebanyakan data di distribusi nilai produk berada diatas nilai rata-rata. Nilai kurtosis menunjukkan ada beberapa outlier pada distribusi nilai rating produk seblak di Tokopedia."
   ]
  },
  {
   "cell_type": "markdown",
   "metadata": {},
   "source": [
    "2. Setelah melakukan analisis terhadap harga jual, jumlah produk yang terjual, dan rating produk, saya melakukan analisis terhadap potensi pemasukkan yang bisa saya dapat dengan menghitung batas atas dan batas bawah dari data penjualan seblak yang saya miliki."
   ]
  },
  {
   "cell_type": "markdown",
   "metadata": {},
   "source": [
    "Dengan asumsi angka penjualan dari tokopedia merupakan jumlah penjualan terjual dan data terdistribusi normal, langkah pertama saya adalah membuat kolom baru yang berupa tabel pendapatan setiap toko."
   ]
  },
  {
   "cell_type": "code",
   "execution_count": 22,
   "metadata": {},
   "outputs": [],
   "source": [
    "# Membuat kolom baru\n",
    "seblak_clean['pendapatan'] = seblak_clean['harga produk'] * seblak_clean['banyaknya terjual']"
   ]
  },
  {
   "cell_type": "code",
   "execution_count": 23,
   "metadata": {},
   "outputs": [
    {
     "data": {
      "text/html": [
       "<div>\n",
       "<style scoped>\n",
       "    .dataframe tbody tr th:only-of-type {\n",
       "        vertical-align: middle;\n",
       "    }\n",
       "\n",
       "    .dataframe tbody tr th {\n",
       "        vertical-align: top;\n",
       "    }\n",
       "\n",
       "    .dataframe thead th {\n",
       "        text-align: right;\n",
       "    }\n",
       "</style>\n",
       "<table border=\"1\" class=\"dataframe\">\n",
       "  <thead>\n",
       "    <tr style=\"text-align: right;\">\n",
       "      <th></th>\n",
       "      <th>nama produk</th>\n",
       "      <th>harga produk</th>\n",
       "      <th>penjual</th>\n",
       "      <th>kota toko</th>\n",
       "      <th>banyaknya terjual</th>\n",
       "      <th>rating produk</th>\n",
       "      <th>pendapatan</th>\n",
       "    </tr>\n",
       "  </thead>\n",
       "  <tbody>\n",
       "    <tr>\n",
       "      <th>0</th>\n",
       "      <td>Seblak Rafael/Seblak Coet Instan Halal</td>\n",
       "      <td>26600.0</td>\n",
       "      <td>Foodstocks</td>\n",
       "      <td>Jakarta Selatan</td>\n",
       "      <td>250.0</td>\n",
       "      <td>5.0</td>\n",
       "      <td>6650000.0</td>\n",
       "    </tr>\n",
       "    <tr>\n",
       "      <th>1</th>\n",
       "      <td>Seblak Rafael, Seblak Coet Instan Halal</td>\n",
       "      <td>25000.0</td>\n",
       "      <td>Brother Meat Shop</td>\n",
       "      <td>Depok</td>\n",
       "      <td>500.0</td>\n",
       "      <td>5.0</td>\n",
       "      <td>12500000.0</td>\n",
       "    </tr>\n",
       "    <tr>\n",
       "      <th>2</th>\n",
       "      <td>kerupuk seblak pedas 1 kg / kerupuk seblak</td>\n",
       "      <td>35625.0</td>\n",
       "      <td>Adila_Putri_Snack</td>\n",
       "      <td>Kab.Ciamis</td>\n",
       "      <td>100.0</td>\n",
       "      <td>4.8</td>\n",
       "      <td>3562500.0</td>\n",
       "    </tr>\n",
       "    <tr>\n",
       "      <th>3</th>\n",
       "      <td>seblak kerupuk beton/jaat pedas daun jeruk isi...</td>\n",
       "      <td>36000.0</td>\n",
       "      <td>Cemilan huhah</td>\n",
       "      <td>Kab. Bandung</td>\n",
       "      <td>0.0</td>\n",
       "      <td>0.0</td>\n",
       "      <td>0.0</td>\n",
       "    </tr>\n",
       "    <tr>\n",
       "      <th>4</th>\n",
       "      <td>Seblak Instan</td>\n",
       "      <td>8000.0</td>\n",
       "      <td>ROEMAH MOSLEM</td>\n",
       "      <td>Kab. Boyolali</td>\n",
       "      <td>70.0</td>\n",
       "      <td>5.0</td>\n",
       "      <td>560000.0</td>\n",
       "    </tr>\n",
       "    <tr>\n",
       "      <th>...</th>\n",
       "      <td>...</td>\n",
       "      <td>...</td>\n",
       "      <td>...</td>\n",
       "      <td>...</td>\n",
       "      <td>...</td>\n",
       "      <td>...</td>\n",
       "      <td>...</td>\n",
       "    </tr>\n",
       "    <tr>\n",
       "      <th>800</th>\n",
       "      <td>Kylafood Seblak Rempah Autentik 115gr, Seblak ...</td>\n",
       "      <td>12250.0</td>\n",
       "      <td>Brother Meat Shop</td>\n",
       "      <td>Depok</td>\n",
       "      <td>100.0</td>\n",
       "      <td>4.9</td>\n",
       "      <td>1225000.0</td>\n",
       "    </tr>\n",
       "    <tr>\n",
       "      <th>801</th>\n",
       "      <td>Seblak Kerupuk Kering Pedas 70 Gram - KRAUKS S...</td>\n",
       "      <td>9000.0</td>\n",
       "      <td>Krauks Store</td>\n",
       "      <td>Bogor</td>\n",
       "      <td>0.0</td>\n",
       "      <td>0.0</td>\n",
       "      <td>0.0</td>\n",
       "    </tr>\n",
       "    <tr>\n",
       "      <th>802</th>\n",
       "      <td>SEBLAK INSTAN MOMMY</td>\n",
       "      <td>13900.0</td>\n",
       "      <td>Rav Jaya Display</td>\n",
       "      <td>Kab. Tangerang</td>\n",
       "      <td>1000.0</td>\n",
       "      <td>4.8</td>\n",
       "      <td>13900000.0</td>\n",
       "    </tr>\n",
       "    <tr>\n",
       "      <th>803</th>\n",
       "      <td>seblak kencur / okesnack</td>\n",
       "      <td>10000.0</td>\n",
       "      <td>oke snack</td>\n",
       "      <td>Jakarta Selatan</td>\n",
       "      <td>750.0</td>\n",
       "      <td>4.9</td>\n",
       "      <td>7500000.0</td>\n",
       "    </tr>\n",
       "    <tr>\n",
       "      <th>804</th>\n",
       "      <td>Kerupuk Seblak Pedas Gurih Kencur 250 Gram - T...</td>\n",
       "      <td>14000.0</td>\n",
       "      <td>TAM SNACK</td>\n",
       "      <td>Depok</td>\n",
       "      <td>100.0</td>\n",
       "      <td>4.9</td>\n",
       "      <td>1400000.0</td>\n",
       "    </tr>\n",
       "  </tbody>\n",
       "</table>\n",
       "<p>800 rows × 7 columns</p>\n",
       "</div>"
      ],
      "text/plain": [
       "                                           nama produk  harga produk  \\\n",
       "0               Seblak Rafael/Seblak Coet Instan Halal       26600.0   \n",
       "1              Seblak Rafael, Seblak Coet Instan Halal       25000.0   \n",
       "2           kerupuk seblak pedas 1 kg / kerupuk seblak       35625.0   \n",
       "3    seblak kerupuk beton/jaat pedas daun jeruk isi...       36000.0   \n",
       "4                                        Seblak Instan        8000.0   \n",
       "..                                                 ...           ...   \n",
       "800  Kylafood Seblak Rempah Autentik 115gr, Seblak ...       12250.0   \n",
       "801  Seblak Kerupuk Kering Pedas 70 Gram - KRAUKS S...        9000.0   \n",
       "802                                SEBLAK INSTAN MOMMY       13900.0   \n",
       "803                           seblak kencur / okesnack       10000.0   \n",
       "804  Kerupuk Seblak Pedas Gurih Kencur 250 Gram - T...       14000.0   \n",
       "\n",
       "               penjual        kota toko  banyaknya terjual  rating produk  \\\n",
       "0           Foodstocks  Jakarta Selatan              250.0            5.0   \n",
       "1    Brother Meat Shop            Depok              500.0            5.0   \n",
       "2    Adila_Putri_Snack       Kab.Ciamis              100.0            4.8   \n",
       "3        Cemilan huhah     Kab. Bandung                0.0            0.0   \n",
       "4        ROEMAH MOSLEM    Kab. Boyolali               70.0            5.0   \n",
       "..                 ...              ...                ...            ...   \n",
       "800  Brother Meat Shop            Depok              100.0            4.9   \n",
       "801       Krauks Store            Bogor                0.0            0.0   \n",
       "802   Rav Jaya Display   Kab. Tangerang             1000.0            4.8   \n",
       "803          oke snack  Jakarta Selatan              750.0            4.9   \n",
       "804          TAM SNACK            Depok              100.0            4.9   \n",
       "\n",
       "     pendapatan  \n",
       "0     6650000.0  \n",
       "1    12500000.0  \n",
       "2     3562500.0  \n",
       "3           0.0  \n",
       "4      560000.0  \n",
       "..          ...  \n",
       "800   1225000.0  \n",
       "801         0.0  \n",
       "802  13900000.0  \n",
       "803   7500000.0  \n",
       "804   1400000.0  \n",
       "\n",
       "[800 rows x 7 columns]"
      ]
     },
     "execution_count": 23,
     "metadata": {},
     "output_type": "execute_result"
    }
   ],
   "source": [
    "seblak_clean"
   ]
  },
  {
   "cell_type": "code",
   "execution_count": 29,
   "metadata": {},
   "outputs": [
    {
     "name": "stdout",
     "output_type": "stream",
     "text": [
      "Lower Limit: 5774677.86979913\n",
      "Upper Limit: 9606620.787700871\n"
     ]
    }
   ],
   "source": [
    "#Mencari batas atas dan batas bawah dari pendapatan\n",
    "std = seblak_clean['pendapatan'].std()\n",
    "N = len(seblak_clean)\n",
    "low, up = stats.norm.interval(0.95,loc=seblak_clean['pendapatan'].mean(),scale=std/np.sqrt(N))\n",
    "print('Lower Limit:',low)\n",
    "print('Upper Limit:',up)"
   ]
  },
  {
   "cell_type": "markdown",
   "metadata": {},
   "source": [
    "Berdasarkan perhitungan batas atas dan bawah dengan confidence level sebesar 95% dengan distribusi data dianggap normal diperoleh bahwa pendapatan minimal yang dapat saya peroleh dengan menjual seblak adalah sebesar Rp 5,774,677.00 dan maksimalnya sebesar Rp 9,606,620.00 per bulan."
   ]
  },
  {
   "cell_type": "markdown",
   "metadata": {},
   "source": [
    "3. Setelah mengetahui batas bawah dan batas atas dari potensi pendapatan yang didapat, saya perlu mengecek apakah harga barang di jabodetabek sama dengan di luar daerah jabodetabek karena harga di luar daerah bisa saja terpengaruhi oleh perbedaan harga barang baku dan biaya ongkos. Untuk menguji hal ini, saya melakukan test dua sampel dengan hipotesis\n",
    "\n",
    "H0 = Harga rata-rata seblak di JABODETABEK tidak jauh berbeda dengan harga seblak di luar JABODETABEK\n",
    "\n",
    "H1 = Harga rata-rata seblak di JABODETABEK sangat berbeda dengan harga seblak di luar JABODETABEK\n",
    "\n",
    "hal pertama yang perlu dilakukan adalah mengecek asal toko di database"
   ]
  },
  {
   "cell_type": "code",
   "execution_count": 30,
   "metadata": {},
   "outputs": [
    {
     "data": {
      "text/plain": [
       "array(['Jakarta Selatan', 'Depok', 'Kab.Ciamis', 'Kab. Bandung',\n",
       "       'Kab. Boyolali', 'Surabaya', 'Bandung', 'Tangerang Selatan',\n",
       "       'Medan', 'Kab. Garut', 'Jakarta Timur', 'Kab. Bogor',\n",
       "       'Kab. Bekasi', 'Tangerang', 'Kab. Tasikmalaya', 'Kab. Indramayu',\n",
       "       'Cimahi', 'Jakarta Barat', 'Kab. Sukoharjo', 'Kab. Sukabumi',\n",
       "       'Banjarbaru', 'Kab. Tangerang', 'Kediri', 'Kab. Majalengka',\n",
       "       'Bogor', 'Makassar', 'Tasikmalaya', 'Jakarta Pusat',\n",
       "       'Kab. Sidoarjo', 'Kab. Bandung Barat', 'Surakarta',\n",
       "       'Kab. Magelang', 'Kab. Bantul', 'Kab. Sumedang', 'Jakarta Utara',\n",
       "       'Pekanbaru', 'Bekasi', 'Denpasar', 'Kab. Pekalongan',\n",
       "       'Kab. Malang', 'Kab. Badung', 'Kab. Madiun', 'Semarang', 'Malang',\n",
       "       'Kab. Jember', 'Kab. Cianjur', 'Kab. Cirebon', 'Kab. Mojokerto',\n",
       "       'Pontianak', 'Bandar Lampung', 'Palembang', 'Kab. Gresik',\n",
       "       'Kab. Nganjuk', 'Kab. Kediri', 'Kab. Brebes', 'Kab. Kebumen',\n",
       "       'Kab. Jombang', 'Kab. Purwakarta', 'Kab. Lebak', 'Kab. Batang',\n",
       "       'Kab. Sleman', 'Kab. Purworejo', 'Kab. Banyumas', 'Banjar',\n",
       "       'Samarinda', 'Kab. Tegal', 'Kab. Hulu Sungai Tengah', 'Batam'],\n",
       "      dtype=object)"
      ]
     },
     "execution_count": 30,
     "metadata": {},
     "output_type": "execute_result"
    }
   ],
   "source": [
    "# melihat daftar nama unik dari kolom kota toko\n",
    "seblak_clean['kota toko'].unique()"
   ]
  },
  {
   "cell_type": "markdown",
   "metadata": {},
   "source": [
    "Didapatkan daerah yang termasuk daerah JABODETABEK adalah Jakarta Selatan, Depok, Tangerang Selatan, Jakarta Timur, Kab. Bogor, Kab. Bekasi, Tangerang, Jakarta Barat, Kab. Tangerang, Bogor, Jakarta Pusat, Jakarta Utara, Bekasi. Di luar dari daerah tersebut adalah daerah Non-JABODETABEK. Langkah selanjutnya adalah membuat tabel baru yang menyatakan suatu barang dijual di daerah JABODETABEK atau Non-JABODETABEK."
   ]
  },
  {
   "cell_type": "code",
   "execution_count": 31,
   "metadata": {},
   "outputs": [],
   "source": [
    "# membuat list daftar kota yang termasuk daerah JABODETABEK\n",
    "jabodetabek = ['Jakarta Selatan', 'Depok', 'Tangerang Selatan', 'Jakarta Timur', 'Kab. Bogor', 'Kab. Bekasi', 'Tangerang', 'Jakarta Barat', 'Kab. Tangerang', 'Bogor', 'Jakarta Pusat', 'Jakarta Utara', 'Bekasi']"
   ]
  },
  {
   "cell_type": "code",
   "execution_count": 32,
   "metadata": {},
   "outputs": [],
   "source": [
    "# membuat wadah untuk nama daerah toko\n",
    "daerah = []"
   ]
  },
  {
   "cell_type": "code",
   "execution_count": 33,
   "metadata": {},
   "outputs": [],
   "source": [
    "# mencocokkan kota toko dengan list jabodetabek untuk ditambahkan nilai daerah sesuai lokasinya\n",
    "for kota in seblak_clean['kota toko']:\n",
    "    if kota in jabodetabek:\n",
    "        daerah.append('JABODETABEK')\n",
    "    else:\n",
    "        daerah.append('Non-JABODETABEK')"
   ]
  },
  {
   "cell_type": "code",
   "execution_count": 34,
   "metadata": {},
   "outputs": [],
   "source": [
    "# menambah kolom daerah\n",
    "seblak_clean['daerah'] = daerah"
   ]
  },
  {
   "cell_type": "markdown",
   "metadata": {},
   "source": [
    "setelah menambah kolom daerah, ambil tabel berisi kolom daerah dan harga jual dengan daerah JABODETABEK dan Non-JABODETABEK"
   ]
  },
  {
   "cell_type": "code",
   "execution_count": 44,
   "metadata": {},
   "outputs": [],
   "source": [
    "# tabel harga jabodetabek\n",
    "tabel_jabodetabek = seblak_clean[seblak_clean['daerah'] == 'JABODETABEK'][['harga produk']]"
   ]
  },
  {
   "cell_type": "code",
   "execution_count": 45,
   "metadata": {},
   "outputs": [
    {
     "data": {
      "text/html": [
       "<div>\n",
       "<style scoped>\n",
       "    .dataframe tbody tr th:only-of-type {\n",
       "        vertical-align: middle;\n",
       "    }\n",
       "\n",
       "    .dataframe tbody tr th {\n",
       "        vertical-align: top;\n",
       "    }\n",
       "\n",
       "    .dataframe thead th {\n",
       "        text-align: right;\n",
       "    }\n",
       "</style>\n",
       "<table border=\"1\" class=\"dataframe\">\n",
       "  <thead>\n",
       "    <tr style=\"text-align: right;\">\n",
       "      <th></th>\n",
       "      <th>harga produk</th>\n",
       "    </tr>\n",
       "  </thead>\n",
       "  <tbody>\n",
       "    <tr>\n",
       "      <th>0</th>\n",
       "      <td>26600.0</td>\n",
       "    </tr>\n",
       "    <tr>\n",
       "      <th>1</th>\n",
       "      <td>25000.0</td>\n",
       "    </tr>\n",
       "    <tr>\n",
       "      <th>11</th>\n",
       "      <td>17000.0</td>\n",
       "    </tr>\n",
       "    <tr>\n",
       "      <th>12</th>\n",
       "      <td>16000.0</td>\n",
       "    </tr>\n",
       "    <tr>\n",
       "      <th>17</th>\n",
       "      <td>4450.0</td>\n",
       "    </tr>\n",
       "    <tr>\n",
       "      <th>...</th>\n",
       "      <td>...</td>\n",
       "    </tr>\n",
       "    <tr>\n",
       "      <th>800</th>\n",
       "      <td>12250.0</td>\n",
       "    </tr>\n",
       "    <tr>\n",
       "      <th>801</th>\n",
       "      <td>9000.0</td>\n",
       "    </tr>\n",
       "    <tr>\n",
       "      <th>802</th>\n",
       "      <td>13900.0</td>\n",
       "    </tr>\n",
       "    <tr>\n",
       "      <th>803</th>\n",
       "      <td>10000.0</td>\n",
       "    </tr>\n",
       "    <tr>\n",
       "      <th>804</th>\n",
       "      <td>14000.0</td>\n",
       "    </tr>\n",
       "  </tbody>\n",
       "</table>\n",
       "<p>264 rows × 1 columns</p>\n",
       "</div>"
      ],
      "text/plain": [
       "     harga produk\n",
       "0         26600.0\n",
       "1         25000.0\n",
       "11        17000.0\n",
       "12        16000.0\n",
       "17         4450.0\n",
       "..            ...\n",
       "800       12250.0\n",
       "801        9000.0\n",
       "802       13900.0\n",
       "803       10000.0\n",
       "804       14000.0\n",
       "\n",
       "[264 rows x 1 columns]"
      ]
     },
     "execution_count": 45,
     "metadata": {},
     "output_type": "execute_result"
    }
   ],
   "source": [
    "tabel_jabodetabek"
   ]
  },
  {
   "cell_type": "code",
   "execution_count": 47,
   "metadata": {},
   "outputs": [],
   "source": [
    "# tabel harga non-jabodetabek\n",
    "tabel_nonjabodetabek = seblak_clean[seblak_clean['daerah'] == 'Non-JABODETABEK'][['harga produk']]"
   ]
  },
  {
   "cell_type": "code",
   "execution_count": 48,
   "metadata": {},
   "outputs": [
    {
     "data": {
      "text/html": [
       "<div>\n",
       "<style scoped>\n",
       "    .dataframe tbody tr th:only-of-type {\n",
       "        vertical-align: middle;\n",
       "    }\n",
       "\n",
       "    .dataframe tbody tr th {\n",
       "        vertical-align: top;\n",
       "    }\n",
       "\n",
       "    .dataframe thead th {\n",
       "        text-align: right;\n",
       "    }\n",
       "</style>\n",
       "<table border=\"1\" class=\"dataframe\">\n",
       "  <thead>\n",
       "    <tr style=\"text-align: right;\">\n",
       "      <th></th>\n",
       "      <th>harga produk</th>\n",
       "    </tr>\n",
       "  </thead>\n",
       "  <tbody>\n",
       "    <tr>\n",
       "      <th>2</th>\n",
       "      <td>35625.0</td>\n",
       "    </tr>\n",
       "    <tr>\n",
       "      <th>3</th>\n",
       "      <td>36000.0</td>\n",
       "    </tr>\n",
       "    <tr>\n",
       "      <th>4</th>\n",
       "      <td>8000.0</td>\n",
       "    </tr>\n",
       "    <tr>\n",
       "      <th>5</th>\n",
       "      <td>5900.0</td>\n",
       "    </tr>\n",
       "    <tr>\n",
       "      <th>6</th>\n",
       "      <td>12225.0</td>\n",
       "    </tr>\n",
       "    <tr>\n",
       "      <th>...</th>\n",
       "      <td>...</td>\n",
       "    </tr>\n",
       "    <tr>\n",
       "      <th>795</th>\n",
       "      <td>40999.0</td>\n",
       "    </tr>\n",
       "    <tr>\n",
       "      <th>796</th>\n",
       "      <td>7500.0</td>\n",
       "    </tr>\n",
       "    <tr>\n",
       "      <th>797</th>\n",
       "      <td>50920.0</td>\n",
       "    </tr>\n",
       "    <tr>\n",
       "      <th>798</th>\n",
       "      <td>8075.0</td>\n",
       "    </tr>\n",
       "    <tr>\n",
       "      <th>799</th>\n",
       "      <td>40000.0</td>\n",
       "    </tr>\n",
       "  </tbody>\n",
       "</table>\n",
       "<p>536 rows × 1 columns</p>\n",
       "</div>"
      ],
      "text/plain": [
       "     harga produk\n",
       "2         35625.0\n",
       "3         36000.0\n",
       "4          8000.0\n",
       "5          5900.0\n",
       "6         12225.0\n",
       "..            ...\n",
       "795       40999.0\n",
       "796        7500.0\n",
       "797       50920.0\n",
       "798        8075.0\n",
       "799       40000.0\n",
       "\n",
       "[536 rows x 1 columns]"
      ]
     },
     "execution_count": 48,
     "metadata": {},
     "output_type": "execute_result"
    }
   ],
   "source": [
    "tabel_nonjabodetabek"
   ]
  },
  {
   "cell_type": "code",
   "execution_count": 49,
   "metadata": {},
   "outputs": [
    {
     "name": "stdout",
     "output_type": "stream",
     "text": [
      "T-Statistic: 1.638192809919917\n",
      "P-value: 0.10177567854057655\n"
     ]
    }
   ],
   "source": [
    "#mencari t_stat dan p_val dan melakukan uji hipotesa\n",
    "t_stat, p_val = stats.ttest_ind(tabel_jabodetabek['harga produk'],tabel_nonjabodetabek['harga produk'])\n",
    "print('T-Statistic:',t_stat)\n",
    "print('P-value:',p_val) #"
   ]
  },
  {
   "cell_type": "markdown",
   "metadata": {},
   "source": [
    "Nilai P-value lebih kecil dari 0.5, berarti H0 ditolak dan H1 diterima. Hasil analisis P-value menunjukkan bahwa harga rata-rata seblak di JABODETABEK sangat berbeda dengan harga seblak di luar JABODETABEK."
   ]
  },
  {
   "cell_type": "markdown",
   "metadata": {},
   "source": [
    "4. Setelah mengetahui perbandingan harga seblak di wilayah JABODETABEK dan di luarnya, saya ingin tahu apakah orang-orang lebih suka produk berharga murah atau tidak. Saya mencari korelasi antara harga barang dengan jumlah produk terjual dan ratingnya untuk memastikan. Karena datanya sebenarnya skewed, saya memilih untuk melakukan korelasi dengan metode spearman"
   ]
  },
  {
   "cell_type": "code",
   "execution_count": 53,
   "metadata": {},
   "outputs": [
    {
     "name": "stdout",
     "output_type": "stream",
     "text": [
      "rho-correlation: -0.04, p-value: 0.31077591774441954\n"
     ]
    }
   ],
   "source": [
    "# cek korelasi antara harga barang dengan jumlah produk terjual\n",
    "corr_rho, pval_s = stats.spearmanr(seblak_clean['harga produk'], seblak_clean['banyaknya terjual'])\n",
    "print(f\"rho-correlation: {corr_rho:.2f}, p-value: {pval_s}\")"
   ]
  },
  {
   "cell_type": "markdown",
   "metadata": {},
   "source": [
    "p value lebih dari 0.05, korelasi antar harga produk dengan jumlah produk yang terjual lemah."
   ]
  },
  {
   "cell_type": "code",
   "execution_count": 54,
   "metadata": {},
   "outputs": [
    {
     "name": "stdout",
     "output_type": "stream",
     "text": [
      "rho-correlation: -0.03, p-value: 0.4029535204947985\n"
     ]
    }
   ],
   "source": [
    "# cek korelasi antara harga barang dengan rating produk\n",
    "corr_rho, pval_s = stats.spearmanr(seblak_clean['harga produk'], seblak_clean['rating produk'])\n",
    "print(f\"rho-correlation: {corr_rho:.2f}, p-value: {pval_s}\")"
   ]
  },
  {
   "cell_type": "markdown",
   "metadata": {},
   "source": [
    "p value lebih dari 0.05, korelasi antar harga produk dengan rating produk lemah."
   ]
  },
  {
   "cell_type": "markdown",
   "metadata": {},
   "source": [
    "# E. Kesimpulan"
   ]
  },
  {
   "cell_type": "markdown",
   "metadata": {},
   "source": [
    "Berdasarkan analisis yang dilakukan, didapatkan dari pengukuran central tendency bahwa kebanyakan toko menjual seblak dengan harga dibawah harga rata-rata dan jumlah penjualan juga dibawah rata-rata, namun kebanyakan pembeli merasa puas dengan produk seblak dengan memberi produk rating yang diatas rata-rata. Berdasarkan perhitungan batas bawah dan batas atas, dapat diperkirakan potensi penjualan seblak perbulannya berkisar diantara Rp 5,774,677.00 sampai Rp 9,606,620.00 per bulan. Berdasarkan hasil tes dua sampel, didapatkan bahwa harga penjualan di JABODETABEK berbeda dengan di luar daerah JABODETABEK. Berdasarkan perhitungan korelasi antara harga barang dengan jumlah barang terjual dan rating produk tidak ditemukan adanya korelasi yang signifikan antara parameter-parameter tersebut. Berdasarkan analisis ini saya berpendapat untuk menyesuaikan angka GMV dalam Problem statement saya dari Rp 8,000,000.00 pebulan menjadi Rp 6,000,000.00 per bulan karena terlihat lebih achievable dari target sebelumnya."
   ]
  }
 ],
 "metadata": {
  "kernelspec": {
   "display_name": "base",
   "language": "python",
   "name": "python3"
  },
  "language_info": {
   "codemirror_mode": {
    "name": "ipython",
    "version": 3
   },
   "file_extension": ".py",
   "mimetype": "text/x-python",
   "name": "python",
   "nbconvert_exporter": "python",
   "pygments_lexer": "ipython3",
   "version": "3.11.7"
  }
 },
 "nbformat": 4,
 "nbformat_minor": 2
}
